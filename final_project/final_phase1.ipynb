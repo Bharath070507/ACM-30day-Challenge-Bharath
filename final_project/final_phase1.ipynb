{
  "nbformat": 4,
  "nbformat_minor": 0,
  "metadata": {
    "colab": {
      "provenance": []
    },
    "kernelspec": {
      "name": "python3",
      "display_name": "Python 3"
    },
    "language_info": {
      "name": "python"
    }
  },
  "cells": [
    {
      "cell_type": "code",
      "execution_count": 1,
      "metadata": {
        "colab": {
          "base_uri": "https://localhost:8080/",
          "height": 73
        },
        "id": "YzwuscI5-VcN",
        "outputId": "5d033031-7a7a-45d7-a70c-36e5e3b84d08"
      },
      "outputs": [
        {
          "output_type": "display_data",
          "data": {
            "text/plain": [
              "<IPython.core.display.HTML object>"
            ],
            "text/html": [
              "\n",
              "     <input type=\"file\" id=\"files-1f134c5e-3f14-4eeb-90fb-87a706abcd1d\" name=\"files[]\" multiple disabled\n",
              "        style=\"border:none\" />\n",
              "     <output id=\"result-1f134c5e-3f14-4eeb-90fb-87a706abcd1d\">\n",
              "      Upload widget is only available when the cell has been executed in the\n",
              "      current browser session. Please rerun this cell to enable.\n",
              "      </output>\n",
              "      <script>// Copyright 2017 Google LLC\n",
              "//\n",
              "// Licensed under the Apache License, Version 2.0 (the \"License\");\n",
              "// you may not use this file except in compliance with the License.\n",
              "// You may obtain a copy of the License at\n",
              "//\n",
              "//      http://www.apache.org/licenses/LICENSE-2.0\n",
              "//\n",
              "// Unless required by applicable law or agreed to in writing, software\n",
              "// distributed under the License is distributed on an \"AS IS\" BASIS,\n",
              "// WITHOUT WARRANTIES OR CONDITIONS OF ANY KIND, either express or implied.\n",
              "// See the License for the specific language governing permissions and\n",
              "// limitations under the License.\n",
              "\n",
              "/**\n",
              " * @fileoverview Helpers for google.colab Python module.\n",
              " */\n",
              "(function(scope) {\n",
              "function span(text, styleAttributes = {}) {\n",
              "  const element = document.createElement('span');\n",
              "  element.textContent = text;\n",
              "  for (const key of Object.keys(styleAttributes)) {\n",
              "    element.style[key] = styleAttributes[key];\n",
              "  }\n",
              "  return element;\n",
              "}\n",
              "\n",
              "// Max number of bytes which will be uploaded at a time.\n",
              "const MAX_PAYLOAD_SIZE = 100 * 1024;\n",
              "\n",
              "function _uploadFiles(inputId, outputId) {\n",
              "  const steps = uploadFilesStep(inputId, outputId);\n",
              "  const outputElement = document.getElementById(outputId);\n",
              "  // Cache steps on the outputElement to make it available for the next call\n",
              "  // to uploadFilesContinue from Python.\n",
              "  outputElement.steps = steps;\n",
              "\n",
              "  return _uploadFilesContinue(outputId);\n",
              "}\n",
              "\n",
              "// This is roughly an async generator (not supported in the browser yet),\n",
              "// where there are multiple asynchronous steps and the Python side is going\n",
              "// to poll for completion of each step.\n",
              "// This uses a Promise to block the python side on completion of each step,\n",
              "// then passes the result of the previous step as the input to the next step.\n",
              "function _uploadFilesContinue(outputId) {\n",
              "  const outputElement = document.getElementById(outputId);\n",
              "  const steps = outputElement.steps;\n",
              "\n",
              "  const next = steps.next(outputElement.lastPromiseValue);\n",
              "  return Promise.resolve(next.value.promise).then((value) => {\n",
              "    // Cache the last promise value to make it available to the next\n",
              "    // step of the generator.\n",
              "    outputElement.lastPromiseValue = value;\n",
              "    return next.value.response;\n",
              "  });\n",
              "}\n",
              "\n",
              "/**\n",
              " * Generator function which is called between each async step of the upload\n",
              " * process.\n",
              " * @param {string} inputId Element ID of the input file picker element.\n",
              " * @param {string} outputId Element ID of the output display.\n",
              " * @return {!Iterable<!Object>} Iterable of next steps.\n",
              " */\n",
              "function* uploadFilesStep(inputId, outputId) {\n",
              "  const inputElement = document.getElementById(inputId);\n",
              "  inputElement.disabled = false;\n",
              "\n",
              "  const outputElement = document.getElementById(outputId);\n",
              "  outputElement.innerHTML = '';\n",
              "\n",
              "  const pickedPromise = new Promise((resolve) => {\n",
              "    inputElement.addEventListener('change', (e) => {\n",
              "      resolve(e.target.files);\n",
              "    });\n",
              "  });\n",
              "\n",
              "  const cancel = document.createElement('button');\n",
              "  inputElement.parentElement.appendChild(cancel);\n",
              "  cancel.textContent = 'Cancel upload';\n",
              "  const cancelPromise = new Promise((resolve) => {\n",
              "    cancel.onclick = () => {\n",
              "      resolve(null);\n",
              "    };\n",
              "  });\n",
              "\n",
              "  // Wait for the user to pick the files.\n",
              "  const files = yield {\n",
              "    promise: Promise.race([pickedPromise, cancelPromise]),\n",
              "    response: {\n",
              "      action: 'starting',\n",
              "    }\n",
              "  };\n",
              "\n",
              "  cancel.remove();\n",
              "\n",
              "  // Disable the input element since further picks are not allowed.\n",
              "  inputElement.disabled = true;\n",
              "\n",
              "  if (!files) {\n",
              "    return {\n",
              "      response: {\n",
              "        action: 'complete',\n",
              "      }\n",
              "    };\n",
              "  }\n",
              "\n",
              "  for (const file of files) {\n",
              "    const li = document.createElement('li');\n",
              "    li.append(span(file.name, {fontWeight: 'bold'}));\n",
              "    li.append(span(\n",
              "        `(${file.type || 'n/a'}) - ${file.size} bytes, ` +\n",
              "        `last modified: ${\n",
              "            file.lastModifiedDate ? file.lastModifiedDate.toLocaleDateString() :\n",
              "                                    'n/a'} - `));\n",
              "    const percent = span('0% done');\n",
              "    li.appendChild(percent);\n",
              "\n",
              "    outputElement.appendChild(li);\n",
              "\n",
              "    const fileDataPromise = new Promise((resolve) => {\n",
              "      const reader = new FileReader();\n",
              "      reader.onload = (e) => {\n",
              "        resolve(e.target.result);\n",
              "      };\n",
              "      reader.readAsArrayBuffer(file);\n",
              "    });\n",
              "    // Wait for the data to be ready.\n",
              "    let fileData = yield {\n",
              "      promise: fileDataPromise,\n",
              "      response: {\n",
              "        action: 'continue',\n",
              "      }\n",
              "    };\n",
              "\n",
              "    // Use a chunked sending to avoid message size limits. See b/62115660.\n",
              "    let position = 0;\n",
              "    do {\n",
              "      const length = Math.min(fileData.byteLength - position, MAX_PAYLOAD_SIZE);\n",
              "      const chunk = new Uint8Array(fileData, position, length);\n",
              "      position += length;\n",
              "\n",
              "      const base64 = btoa(String.fromCharCode.apply(null, chunk));\n",
              "      yield {\n",
              "        response: {\n",
              "          action: 'append',\n",
              "          file: file.name,\n",
              "          data: base64,\n",
              "        },\n",
              "      };\n",
              "\n",
              "      let percentDone = fileData.byteLength === 0 ?\n",
              "          100 :\n",
              "          Math.round((position / fileData.byteLength) * 100);\n",
              "      percent.textContent = `${percentDone}% done`;\n",
              "\n",
              "    } while (position < fileData.byteLength);\n",
              "  }\n",
              "\n",
              "  // All done.\n",
              "  yield {\n",
              "    response: {\n",
              "      action: 'complete',\n",
              "    }\n",
              "  };\n",
              "}\n",
              "\n",
              "scope.google = scope.google || {};\n",
              "scope.google.colab = scope.google.colab || {};\n",
              "scope.google.colab._files = {\n",
              "  _uploadFiles,\n",
              "  _uploadFilesContinue,\n",
              "};\n",
              "})(self);\n",
              "</script> "
            ]
          },
          "metadata": {}
        },
        {
          "output_type": "stream",
          "name": "stdout",
          "text": [
            "Saving workout_fitness_tracker_data.csv to workout_fitness_tracker_data.csv\n"
          ]
        }
      ],
      "source": [
        "from google.colab import files\n",
        "uploaded=files.upload()"
      ]
    },
    {
      "cell_type": "code",
      "source": [
        "import pandas as pd\n",
        "import numpy as np\n",
        "import torch\n",
        "from sklearn.preprocessing import OrdinalEncoder, StandardScaler\n",
        "from sklearn.model_selection import train_test_split\n",
        "from sklearn.metrics import accuracy_score, confusion_matrix, classification_report\n",
        "import matplotlib.pyplot as plt"
      ],
      "metadata": {
        "id": "mwiwLXESv73L"
      },
      "execution_count": 9,
      "outputs": []
    },
    {
      "cell_type": "code",
      "source": [
        "df = pd.read_csv(\"workout_fitness_tracker_data.csv\")\n",
        "print(df.head())\n",
        "print(df.info())"
      ],
      "metadata": {
        "colab": {
          "base_uri": "https://localhost:8080/"
        },
        "id": "Ywktg7vUv-oe",
        "outputId": "378a7325-d72c-4378-aa46-07478b5d14d7"
      },
      "execution_count": 3,
      "outputs": [
        {
          "output_type": "stream",
          "name": "stdout",
          "text": [
            "   User ID  Age  Gender  Height (cm)  Weight (kg) Workout Type  \\\n",
            "0        1   39    Male          175           99      Cycling   \n",
            "1        2   36   Other          157          112       Cardio   \n",
            "2        3   25  Female          180           66         HIIT   \n",
            "3        4   56    Male          154           89      Cycling   \n",
            "4        5   53   Other          194           59     Strength   \n",
            "\n",
            "   Workout Duration (mins)  Calories Burned  Heart Rate (bpm)  Steps Taken  \\\n",
            "0                       79              384               112         8850   \n",
            "1                       73              612               168         2821   \n",
            "2                       27              540               133        18898   \n",
            "3                       39              672               118        14102   \n",
            "4                       56              410               170        16518   \n",
            "\n",
            "   Distance (km) Workout Intensity  Sleep Hours  Water Intake (liters)  \\\n",
            "0          14.44              High          8.2                    1.9   \n",
            "1           1.10              High          8.6                    1.9   \n",
            "2           7.28              High          9.8                    1.9   \n",
            "3           6.55            Medium          5.8                    1.9   \n",
            "4           3.17            Medium          7.3                    1.9   \n",
            "\n",
            "   Daily Calories Intake  Resting Heart Rate (bpm)  VO2 Max  Body Fat (%)  \\\n",
            "0                   3195                        61     38.4          28.5   \n",
            "1                   2541                        73     38.4          28.5   \n",
            "2                   3362                        80     38.4          28.5   \n",
            "3                   2071                        65     38.4          28.5   \n",
            "4                   3298                        59     38.4          28.5   \n",
            "\n",
            "  Mood Before Workout Mood After Workout  \n",
            "0               Tired           Fatigued  \n",
            "1               Happy          Energized  \n",
            "2               Happy           Fatigued  \n",
            "3             Neutral            Neutral  \n",
            "4            Stressed          Energized  \n",
            "<class 'pandas.core.frame.DataFrame'>\n",
            "RangeIndex: 10000 entries, 0 to 9999\n",
            "Data columns (total 20 columns):\n",
            " #   Column                    Non-Null Count  Dtype  \n",
            "---  ------                    --------------  -----  \n",
            " 0   User ID                   10000 non-null  int64  \n",
            " 1   Age                       10000 non-null  int64  \n",
            " 2   Gender                    10000 non-null  object \n",
            " 3   Height (cm)               10000 non-null  int64  \n",
            " 4   Weight (kg)               10000 non-null  int64  \n",
            " 5   Workout Type              10000 non-null  object \n",
            " 6   Workout Duration (mins)   10000 non-null  int64  \n",
            " 7   Calories Burned           10000 non-null  int64  \n",
            " 8   Heart Rate (bpm)          10000 non-null  int64  \n",
            " 9   Steps Taken               10000 non-null  int64  \n",
            " 10  Distance (km)             10000 non-null  float64\n",
            " 11  Workout Intensity         10000 non-null  object \n",
            " 12  Sleep Hours               10000 non-null  float64\n",
            " 13  Water Intake (liters)     10000 non-null  float64\n",
            " 14  Daily Calories Intake     10000 non-null  int64  \n",
            " 15  Resting Heart Rate (bpm)  10000 non-null  int64  \n",
            " 16  VO2 Max                   10000 non-null  float64\n",
            " 17  Body Fat (%)              10000 non-null  float64\n",
            " 18  Mood Before Workout       10000 non-null  object \n",
            " 19  Mood After Workout        10000 non-null  object \n",
            "dtypes: float64(5), int64(10), object(5)\n",
            "memory usage: 1.5+ MB\n",
            "None\n"
          ]
        }
      ]
    },
    {
      "cell_type": "code",
      "source": [
        "def assign_dropout_status(record):\n",
        "    mood_start = record['Mood Before Workout']\n",
        "    mood_end = record['Mood After Workout']\n",
        "    workout_level = record['Workout Intensity']\n",
        "    time_spent = record['Workout Duration (mins)']\n",
        "\n",
        "    if (mood_start in ['Tired', 'Stressed', 'Neutral'] and\n",
        "        mood_end in ['Fatigued', 'Neutral'] and\n",
        "        workout_level == 'Low' and\n",
        "        time_spent < 30):\n",
        "        return 1\n",
        "    return 0"
      ],
      "metadata": {
        "id": "r4weru7pwJLi"
      },
      "execution_count": 4,
      "outputs": []
    },
    {
      "cell_type": "code",
      "source": [
        "df['DropoutFlag'] = df.apply(assign_dropout_status, axis=1)\n",
        "print(df['DropoutFlag'].value_counts())"
      ],
      "metadata": {
        "colab": {
          "base_uri": "https://localhost:8080/"
        },
        "id": "s-pEghQ7xBKc",
        "outputId": "901f469f-6fcf-4774-d101-90f8ef049a65"
      },
      "execution_count": 7,
      "outputs": [
        {
          "output_type": "stream",
          "name": "stdout",
          "text": [
            "DropoutFlag\n",
            "0    9690\n",
            "1     310\n",
            "Name: count, dtype: int64\n"
          ]
        }
      ]
    },
    {
      "cell_type": "code",
      "source": [
        "cat_features = df.select_dtypes(include=['object']).columns\n",
        "cat_features = cat_features.drop(['Mood Before Workout', 'Mood After Workout'])\n",
        "print(\"Categorical variables:\", cat_features)\n",
        "\n",
        "encoder = OrdinalEncoder()\n",
        "df[cat_features] = encoder.fit_transform(df[cat_features])"
      ],
      "metadata": {
        "colab": {
          "base_uri": "https://localhost:8080/"
        },
        "id": "3mwLHT7xxElT",
        "outputId": "a32a5d9a-9675-4ddd-fe55-86b044580bb8"
      },
      "execution_count": 10,
      "outputs": [
        {
          "output_type": "stream",
          "name": "stdout",
          "text": [
            "Categorical variables: Index(['Gender', 'Workout Type', 'Workout Intensity'], dtype='object')\n"
          ]
        }
      ]
    },
    {
      "cell_type": "code",
      "source": [
        "scale = StandardScaler()\n",
        "num_features = df.drop(columns=['User ID', 'Mood Before Workout', 'Mood After Workout','Workout Intensity', 'DropoutFlag', 'Gender', 'Workout Type']).columns\n",
        "df[num_features] = scale.fit_transform(df[num_features])"
      ],
      "metadata": {
        "id": "KrzgTEJJxUkb"
      },
      "execution_count": 12,
      "outputs": []
    },
    {
      "cell_type": "code",
      "source": [
        "X_vars = df.drop(columns=['User ID', 'DropoutFlag', 'Mood Before Workout', 'Mood After Workout'])\n",
        "y_var = df['DropoutFlag']\n",
        "\n",
        "X_train, X_test, y_train, y_test = train_test_split(X_vars, y_var, test_size=0.2, random_state=42, stratify=y_var)"
      ],
      "metadata": {
        "id": "Isxvo7qixuIq"
      },
      "execution_count": 14,
      "outputs": []
    },
    {
      "cell_type": "code",
      "source": [
        "train_X_tensor = torch.tensor(X_train.values, dtype=torch.float32)\n",
        "train_y_tensor = torch.tensor(y_train.values, dtype=torch.float32).view(-1, 1)\n",
        "test_X_tensor = torch.tensor(X_test.values, dtype=torch.float32)\n",
        "test_y_tensor = torch.tensor(y_test.values, dtype=torch.float32).view(-1, 1)\n",
        ""
      ],
      "metadata": {
        "id": "RPLmmrTgx1p2"
      },
      "execution_count": 15,
      "outputs": []
    },
    {
      "cell_type": "code",
      "source": [
        "\n",
        "class WorkoutMLP(torch.nn.Module):\n",
        "    def __init__(self, input_dim):\n",
        "        super(WorkoutMLP, self).__init__()\n",
        "        self.hidden = torch.nn.Linear(input_dim, 64)\n",
        "        self.relu = torch.nn.ReLU()\n",
        "        self.output = torch.nn.Linear(64, 1)\n",
        "        self.sigmoid = torch.nn.Sigmoid()\n",
        "\n",
        "    def forward(self, inputs):\n",
        "        x = self.hidden(inputs)\n",
        "        x = self.relu(x)\n",
        "        x = self.output(x)\n",
        "        x = self.sigmoid(x)\n",
        "        return x"
      ],
      "metadata": {
        "id": "v-FQyomix7wg"
      },
      "execution_count": 16,
      "outputs": []
    },
    {
      "cell_type": "code",
      "source": [
        "net = WorkoutMLP(X_train.shape[1])\n",
        "optimizer = torch.optim.Adam(net.parameters(), lr=0.001)\n",
        "loss_fn = torch.nn.BCELoss()"
      ],
      "metadata": {
        "id": "m-BzZKgwx944"
      },
      "execution_count": 17,
      "outputs": []
    },
    {
      "cell_type": "code",
      "source": [
        "\n",
        "loss_history = []\n",
        "epochs = 100\n",
        "\n",
        "for e in range(epochs):\n",
        "    net.train()\n",
        "    optimizer.zero_grad()\n",
        "    predictions = net(train_X_tensor)\n",
        "    loss = loss_fn(predictions, train_y_tensor)\n",
        "    loss.backward()\n",
        "    optimizer.step()\n",
        "    loss_history.append(loss.item())\n",
        "\n",
        "    if (e+1) % 10 == 0:\n",
        "        print(f\"Epoch {e+1} | Loss: {loss.item()}\")\n",
        "\n",
        "plt.plot(loss_history)\n",
        "plt.xlabel('Epoch')\n",
        "plt.ylabel('Loss')\n",
        "plt.title('MLP Training Loss')\n",
        "plt.show()"
      ],
      "metadata": {
        "colab": {
          "base_uri": "https://localhost:8080/",
          "height": 646
        },
        "id": "sT0xPYzUyAa7",
        "outputId": "44bc838a-38da-412e-97f2-7d56faf6abc5"
      },
      "execution_count": 20,
      "outputs": [
        {
          "output_type": "stream",
          "name": "stdout",
          "text": [
            "Epoch 10 | Loss: 0.1379442662000656\n",
            "Epoch 20 | Loss: 0.13485650718212128\n",
            "Epoch 30 | Loss: 0.13228024542331696\n",
            "Epoch 40 | Loss: 0.130049929022789\n",
            "Epoch 50 | Loss: 0.12806940078735352\n",
            "Epoch 60 | Loss: 0.12627941370010376\n",
            "Epoch 70 | Loss: 0.1246296688914299\n",
            "Epoch 80 | Loss: 0.12308522313833237\n",
            "Epoch 90 | Loss: 0.12163325399160385\n",
            "Epoch 100 | Loss: 0.12025552242994308\n"
          ]
        },
        {
          "output_type": "display_data",
          "data": {
            "text/plain": [
              "<Figure size 640x480 with 1 Axes>"
            ],
            "image/png": "[encoded data removed]"
          },
          "metadata": {}
        }
      ]
    },
    {
      "cell_type": "code",
      "source": [
        "net.eval()\n",
        "with torch.no_grad():\n",
        "    test_preds = net(test_X_tensor)\n",
        "    final_preds = (test_preds > 0.5).float()"
      ],
      "metadata": {
        "id": "uB6gE08cyZaZ"
      },
      "execution_count": 22,
      "outputs": []
    },
    {
      "cell_type": "code",
      "source": [
        "print(f\"Accuracy: {accuracy_score(y_test, final_preds)}\")\n",
        "print(\"Confusion Matrix:\\n\", confusion_matrix(y_test, final_preds, labels=[0, 1]))\n",
        "print(classification_report(y_test, final_preds, labels=[0, 1], zero_division=0))"
      ],
      "metadata": {
        "colab": {
          "base_uri": "https://localhost:8080/"
        },
        "id": "cGE8aIyMyIGb",
        "outputId": "cf8dc99f-8bd0-4473-ce96-4055089527e6"
      },
      "execution_count": 23,
      "outputs": [
        {
          "output_type": "stream",
          "name": "stdout",
          "text": [
            "Accuracy: 0.969\n",
            "Confusion Matrix:\n",
            " [[1938    0]\n",
            " [  62    0]]\n",
            "              precision    recall  f1-score   support\n",
            "\n",
            "           0       0.97      1.00      0.98      1938\n",
            "           1       0.00      0.00      0.00        62\n",
            "\n",
            "    accuracy                           0.97      2000\n",
            "   macro avg       0.48      0.50      0.49      2000\n",
            "weighted avg       0.94      0.97      0.95      2000\n",
            "\n"
          ]
        }
      ]
    }
  ]
}